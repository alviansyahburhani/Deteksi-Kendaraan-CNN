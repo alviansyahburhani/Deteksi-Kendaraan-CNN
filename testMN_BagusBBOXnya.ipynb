{
  "cells": [
    {
      "cell_type": "markdown",
      "metadata": {
        "id": "view-in-github",
        "colab_type": "text"
      },
      "source": [
        "<a href=\"https://colab.research.google.com/github/alviansyahburhani/Deteksi-Kendaraan-CNN/blob/main/testMN_BagusBBOXnya.ipynb\" target=\"_parent\"><img src=\"https://colab.research.google.com/assets/colab-badge.svg\" alt=\"Open In Colab\"/></a>"
      ]
    },
    {
      "cell_type": "code",
      "execution_count": 1,
      "metadata": {
        "colab": {
          "base_uri": "https://localhost:8080/"
        },
        "id": "ScP-ga_LZp_Y",
        "outputId": "1a7ef20f-0667-4a6e-c083-eacea3868482"
      },
      "outputs": [
        {
          "output_type": "stream",
          "name": "stdout",
          "text": [
            "Mounted at /content/drive\n"
          ]
        }
      ],
      "source": [
        "from google.colab import drive\n",
        "drive.mount('/content/drive')"
      ]
    },
    {
      "cell_type": "markdown",
      "metadata": {
        "id": "6t4F4phXGqSS"
      },
      "source": []
    },
    {
      "cell_type": "markdown",
      "metadata": {
        "id": "tHm9MTUTT8Et"
      },
      "source": [
        "# Bagian Baru"
      ]
    },
    {
      "cell_type": "code",
      "execution_count": 2,
      "metadata": {
        "id": "t4bhUL1Ta1cf"
      },
      "outputs": [],
      "source": [
        "# !unrar x \"/content/drive/MyDrive/cnn od/sign language.rar\" \"/content/drive/MyDrive/cnn od/\""
      ]
    },
    {
      "cell_type": "code",
      "execution_count": 3,
      "metadata": {
        "id": "fxz7Ky1RZ6NK"
      },
      "outputs": [],
      "source": [
        "import os\n",
        "import cv2\n",
        "import xml.etree.ElementTree as ET\n",
        "import numpy as np\n",
        "import matplotlib.pyplot as plt\n",
        "from tensorflow.keras.applications import MobileNet\n",
        "from tensorflow.keras.models import Model\n",
        "from tensorflow.keras.layers import Dense, GlobalAveragePooling2D\n",
        "from tensorflow.keras.optimizers import Adam\n",
        "from sklearn.model_selection import train_test_split\n",
        "from collections import Counter\n"
      ]
    },
    {
      "cell_type": "code",
      "execution_count": 4,
      "metadata": {
        "id": "i1z8ZTqscBks"
      },
      "outputs": [],
      "source": [
        "# Path to your dataset directory\n",
        "dataset_dir = '/content/drive/MyDrive/DataSet-Kendaraan/Training'"
      ]
    },
    {
      "cell_type": "code",
      "execution_count": 5,
      "metadata": {
        "id": "QMz2vgUO7-cO"
      },
      "outputs": [],
      "source": [
        "# Fungsi untuk memuat gambar dan anotasi\n",
        "def load_dataset(dataset_dir):\n",
        "    images = []\n",
        "    annotations = []\n",
        "    classes_set = set()\n",
        "\n",
        "    # Memuat gambar dan anotasi XML yang sesuai\n",
        "    image_dir = os.path.join(dataset_dir, 'images')\n",
        "    label_dir = os.path.join(dataset_dir, 'labels')\n",
        "\n",
        "    for filename in os.listdir(image_dir):\n",
        "        if filename.endswith('.jpg'):\n",
        "            img_path = os.path.join(image_dir, filename)\n",
        "            annotation_path = os.path.join(label_dir, os.path.splitext(filename)[0] + '.xml')\n",
        "\n",
        "            # Membaca gambar\n",
        "            image = cv2.imread(img_path)\n",
        "            height, width, _ = image.shape\n",
        "\n",
        "            # parsing anotasi XML\n",
        "            tree = ET.parse(annotation_path)\n",
        "            root = tree.getroot()\n",
        "\n",
        "            # Mengambil ukuran gambar dari XML\n",
        "            image_size = root.find('size')\n",
        "            img_width = int(image_size.find('width').text)\n",
        "            img_height = int(image_size.find('height').text)\n",
        "\n",
        "            # Mengubah ukuran gambar jika diperlukan (opsional)\n",
        "            #image = cv2.resize(image, (320, 320))\n",
        "\n",
        "            # Mengambil koordinat bounding box dan label\n",
        "            for obj in root.findall('object'):\n",
        "                obj_name = obj.find('name').text\n",
        "                classes_set.add(obj_name)  # Menambahkan kelas ke set kelas\n",
        "                bbox = obj.find('bndbox')\n",
        "                xmin = int(bbox.find('xmin').text) / img_width * 320\n",
        "                xmax = int(bbox.find('xmax').text) / img_width * 320\n",
        "                ymin = int(bbox.find('ymin').text) / img_height * 320\n",
        "                ymax = int(bbox.find('ymax').text) / img_height * 320\n",
        "\n",
        "                annotations.append({\n",
        "                    'image_path': img_path,\n",
        "                    'label': obj_name,\n",
        "                    'bbox': [xmin, ymin, xmax, ymax],\n",
        "                })\n",
        "\n",
        "            images.append(image)\n",
        "\n",
        "    classes_list = sorted(list(classes_set))  # Mengubah set menjadi daftar kelas yang terurut\n",
        "    num_classes = len(classes_list)\n",
        "\n",
        "    return images, annotations, num_classes, classes_list"
      ]
    },
    {
      "cell_type": "code",
      "execution_count": 6,
      "metadata": {
        "id": "jCocYJP-8Dkv"
      },
      "outputs": [],
      "source": [
        "# Fungsi untuk menampilkan gambar dengan bounding box\n",
        "def display_images_with_bboxes(images, annotations, classes_list, num_samples=5):\n",
        "    plt.figure(figsize=(15, 15))\n",
        "    for i in range(num_samples):\n",
        "        image = images[i]\n",
        "        ann = annotations[i]\n",
        "        bbox = ann['bbox']\n",
        "        label = ann['label']\n",
        "        plt.subplot(1, num_samples, i + 1)\n",
        "        plt.imshow(cv2.cvtColor(image, cv2.COLOR_BGR2RGB))\n",
        "        plt.gca().add_patch(plt.Rectangle((bbox[0], bbox[1]), bbox[2] - bbox[0], bbox[3] - bbox[1],\n",
        "                                          edgecolor='red', facecolor='none', linewidth=2))\n",
        "        plt.title(classes_list[label])\n",
        "    plt.show()"
      ]
    },
    {
      "cell_type": "code",
      "execution_count": 8,
      "metadata": {
        "id": "ztGu0LEqHmtm",
        "colab": {
          "base_uri": "https://localhost:8080/",
          "height": 292
        },
        "outputId": "07460ed9-7c5f-4c1b-b6e3-c6ef38ad0165"
      },
      "outputs": [
        {
          "output_type": "error",
          "ename": "FileNotFoundError",
          "evalue": "[Errno 2] No such file or directory: '/content/drive/MyDrive/DataSet-Kendaraan/Training/images'",
          "traceback": [
            "\u001b[0;31m---------------------------------------------------------------------------\u001b[0m",
            "\u001b[0;31mFileNotFoundError\u001b[0m                         Traceback (most recent call last)",
            "\u001b[0;32m/tmp/ipython-input-2218186804.py\u001b[0m in \u001b[0;36m<cell line: 0>\u001b[0;34m()\u001b[0m\n\u001b[1;32m      1\u001b[0m \u001b[0;31m# Memuat dataset\u001b[0m\u001b[0;34m\u001b[0m\u001b[0;34m\u001b[0m\u001b[0m\n\u001b[0;32m----> 2\u001b[0;31m \u001b[0mimages\u001b[0m\u001b[0;34m,\u001b[0m \u001b[0mannotations\u001b[0m\u001b[0;34m,\u001b[0m \u001b[0mnum_classes\u001b[0m\u001b[0;34m,\u001b[0m \u001b[0mclasses_list\u001b[0m \u001b[0;34m=\u001b[0m \u001b[0mload_dataset\u001b[0m\u001b[0;34m(\u001b[0m\u001b[0mdataset_dir\u001b[0m\u001b[0;34m)\u001b[0m\u001b[0;34m\u001b[0m\u001b[0;34m\u001b[0m\u001b[0m\n\u001b[0m",
            "\u001b[0;32m/tmp/ipython-input-4008427744.py\u001b[0m in \u001b[0;36mload_dataset\u001b[0;34m(dataset_dir)\u001b[0m\n\u001b[1;32m      9\u001b[0m     \u001b[0mlabel_dir\u001b[0m \u001b[0;34m=\u001b[0m \u001b[0mos\u001b[0m\u001b[0;34m.\u001b[0m\u001b[0mpath\u001b[0m\u001b[0;34m.\u001b[0m\u001b[0mjoin\u001b[0m\u001b[0;34m(\u001b[0m\u001b[0mdataset_dir\u001b[0m\u001b[0;34m,\u001b[0m \u001b[0;34m'labels'\u001b[0m\u001b[0;34m)\u001b[0m\u001b[0;34m\u001b[0m\u001b[0;34m\u001b[0m\u001b[0m\n\u001b[1;32m     10\u001b[0m \u001b[0;34m\u001b[0m\u001b[0m\n\u001b[0;32m---> 11\u001b[0;31m     \u001b[0;32mfor\u001b[0m \u001b[0mfilename\u001b[0m \u001b[0;32min\u001b[0m \u001b[0mos\u001b[0m\u001b[0;34m.\u001b[0m\u001b[0mlistdir\u001b[0m\u001b[0;34m(\u001b[0m\u001b[0mimage_dir\u001b[0m\u001b[0;34m)\u001b[0m\u001b[0;34m:\u001b[0m\u001b[0;34m\u001b[0m\u001b[0;34m\u001b[0m\u001b[0m\n\u001b[0m\u001b[1;32m     12\u001b[0m         \u001b[0;32mif\u001b[0m \u001b[0mfilename\u001b[0m\u001b[0;34m.\u001b[0m\u001b[0mendswith\u001b[0m\u001b[0;34m(\u001b[0m\u001b[0;34m'.jpg'\u001b[0m\u001b[0;34m)\u001b[0m\u001b[0;34m:\u001b[0m\u001b[0;34m\u001b[0m\u001b[0;34m\u001b[0m\u001b[0m\n\u001b[1;32m     13\u001b[0m             \u001b[0mimg_path\u001b[0m \u001b[0;34m=\u001b[0m \u001b[0mos\u001b[0m\u001b[0;34m.\u001b[0m\u001b[0mpath\u001b[0m\u001b[0;34m.\u001b[0m\u001b[0mjoin\u001b[0m\u001b[0;34m(\u001b[0m\u001b[0mimage_dir\u001b[0m\u001b[0;34m,\u001b[0m \u001b[0mfilename\u001b[0m\u001b[0;34m)\u001b[0m\u001b[0;34m\u001b[0m\u001b[0;34m\u001b[0m\u001b[0m\n",
            "\u001b[0;31mFileNotFoundError\u001b[0m: [Errno 2] No such file or directory: '/content/drive/MyDrive/DataSet-Kendaraan/Training/images'"
          ]
        }
      ],
      "source": [
        "# Memuat dataset\n",
        "images, annotations, num_classes, classes_list = load_dataset(dataset_dir)\n"
      ]
    },
    {
      "cell_type": "code",
      "execution_count": null,
      "metadata": {
        "id": "ttB94QrTHnEX"
      },
      "outputs": [],
      "source": [
        "# Mengubah label menjadi nilai numerik\n",
        "class_to_index = {cls: idx for idx, cls in enumerate(classes_list)}\n",
        "for annotation in annotations:\n",
        "    annotation['label'] = class_to_index[annotation['label']]"
      ]
    },
    {
      "cell_type": "code",
      "execution_count": null,
      "metadata": {
        "id": "CwV8GASzBBND"
      },
      "outputs": [],
      "source": [
        "# Menghitung jumlah setiap kelas dalam dataset\n",
        "label_counts = Counter([ann['label'] for ann in annotations])\n",
        "\n",
        "# Menampilkan statistik jumlah dataset berdasarkan kelas\n",
        "print(\"\\nStatistik jumlah dataset berdasarkan kelas:\")\n",
        "for cls, count in label_counts.items():\n",
        "    print(f\"{classes_list[cls]}: {count} gambar\")"
      ]
    },
    {
      "cell_type": "code",
      "execution_count": null,
      "metadata": {
        "id": "ioMHKhZeHoNf"
      },
      "outputs": [],
      "source": [
        "# Mempersiapkan data untuk pelatihan\n",
        "X = np.array(images)\n",
        "y_bbox = np.array([ann['bbox'] for ann in annotations])\n",
        "y_class = np.array([ann['label'] for ann in annotations])"
      ]
    },
    {
      "cell_type": "code",
      "execution_count": null,
      "metadata": {
        "id": "N1FV94PQHptv"
      },
      "outputs": [],
      "source": [
        "# Membagi data menjadi set pelatihan dan validasi\n",
        "X_train, X_val, y_bbox_train, y_bbox_val, y_class_train, y_class_val, annotations_train, annotations_val = train_test_split(\n",
        "    X, y_bbox, y_class, annotations, test_size=0.2, random_state=42)"
      ]
    },
    {
      "cell_type": "code",
      "execution_count": null,
      "metadata": {
        "id": "UYqXNFXQHrJg"
      },
      "outputs": [],
      "source": [
        "# Menampilkan beberapa gambar dengan bounding box\n",
        "display_images_with_bboxes(X_train, annotations_train, classes_list, num_samples=5)"
      ]
    },
    {
      "cell_type": "code",
      "execution_count": null,
      "metadata": {
        "id": "kph8EpT5HsNZ"
      },
      "outputs": [],
      "source": [
        "# Menampilkan informasi dataset\n",
        "print(f\"Jumlah gambar: {len(X)}\")\n",
        "print(f\"Jumlah kelas: {num_classes}\")\n",
        "print(f\"Dimensi gambar: {X.shape[1:]}\")\n",
        "print(f\"Label kelas: {classes_list}\")\n"
      ]
    },
    {
      "cell_type": "code",
      "execution_count": null,
      "metadata": {
        "id": "2hXsYHugHtpy"
      },
      "outputs": [],
      "source": [
        "# Mendefinisikan model MobileNet\n",
        "base_model = MobileNet(weights='imagenet', include_top=False, input_shape=(320, 320, 3))\n"
      ]
    },
    {
      "cell_type": "code",
      "execution_count": null,
      "metadata": {
        "id": "aaQrjtKAHu_S"
      },
      "outputs": [],
      "source": [
        "# Menambahkan layer custom untuk regresi bounding box dan prediksi kelas\n",
        "x = base_model.output\n",
        "x = GlobalAveragePooling2D()(x)\n"
      ]
    },
    {
      "cell_type": "code",
      "execution_count": null,
      "metadata": {
        "id": "kFHDcAzJWslk"
      },
      "outputs": [],
      "source": [
        "#from tensorflow.keras.layers import Dropout\n",
        "\n",
        "#Menambahkan Dropout ke layer yang sesuai\n",
        "#x = base_model.output\n",
        "#x = GlobalAveragePooling2D()(x)\n",
        "#x = Dropout(0.2)(x)  # Contoh: dropout 50%"
      ]
    },
    {
      "cell_type": "code",
      "execution_count": null,
      "metadata": {
        "id": "pYmKEsFPHwJz"
      },
      "outputs": [],
      "source": [
        "# Output untuk regresi bounding box\n",
        "bbox_output = Dense(4, activation='linear', name='bbox_output')(x)\n"
      ]
    },
    {
      "cell_type": "code",
      "execution_count": null,
      "metadata": {
        "id": "MR462MjlHxql"
      },
      "outputs": [],
      "source": [
        "# Output untuk prediksi kelas\n",
        "class_output = Dense(num_classes, activation='softmax', name='class_output')(x)\n"
      ]
    },
    {
      "cell_type": "code",
      "execution_count": null,
      "metadata": {
        "id": "CB3PcmSCH0gd"
      },
      "outputs": [],
      "source": [
        "# Menggabungkan output\n",
        "model = Model(inputs=base_model.input, outputs=[bbox_output, class_output])"
      ]
    },
    {
      "cell_type": "code",
      "execution_count": null,
      "metadata": {
        "id": "zmzLpA0RH1GN"
      },
      "outputs": [],
      "source": [
        "# Menampilkan bentuk model\n",
        "model.summary()\n"
      ]
    },
    {
      "cell_type": "code",
      "execution_count": null,
      "metadata": {
        "id": "VXxrouxtH2qu"
      },
      "outputs": [],
      "source": [
        "# Mengompilasi model\n",
        "model.compile(optimizer=Adam(learning_rate=0.001),\n",
        "              loss={'bbox_output': 'mean_squared_error', 'class_output': 'sparse_categorical_crossentropy'},\n",
        "              metrics={'bbox_output': 'mse', 'class_output': 'accuracy'})"
      ]
    },
    {
      "cell_type": "code",
      "execution_count": null,
      "metadata": {
        "id": "Tyi4eIP8H4Eu"
      },
      "outputs": [],
      "source": [
        "#from tensorflow.keras.callbacks import EarlyStopping\n",
        "\n",
        "# Definisikan Early Stopping\n",
        "#early_stopping = EarlyStopping(monitor='val_loss', patience=5, restore_best_weights=True)\n",
        "\n",
        "from tensorflow.keras.callbacks import ModelCheckpoint\n",
        "\n",
        "# Path untuk menyimpan model\n",
        "checkpoint_path = '/content/drive/MyDrive/Dataset/arya6/model_checkpoint2.h5'\n",
        "\n",
        "# Callback untuk menyimpan model ketika val_accuracy meningkat\n",
        "checkpoint = ModelCheckpoint(\n",
        "    checkpoint_path,\n",
        "    monitor='val_class_output_accuracy',\n",
        "    verbose=1,\n",
        "    save_best_only=True,\n",
        "    mode='max',\n",
        "    save_weights_only=False,\n",
        "    save_freq='epoch'\n",
        ")\n",
        "\n",
        "# Melatih model dengan ModelCheckpoint\n",
        "history = model.fit(\n",
        "    X_train, {'bbox_output': y_bbox_train, 'class_output': y_class_train},\n",
        "    validation_data=(X_val, {'bbox_output': y_bbox_val, 'class_output': y_class_val}),\n",
        "    epochs=150,\n",
        "    batch_size=32,\n",
        "    callbacks=[checkpoint]  # Menambahkan callback ModelCheckpoint\n",
        ")\n"
      ]
    },
    {
      "cell_type": "code",
      "execution_count": null,
      "metadata": {
        "id": "BbwAnixwtu2j"
      },
      "outputs": [],
      "source": [
        "# Save the trained model\n",
        "#model.save('/content/drive/MyDrive/Materi/jari/CNN_Arya2.h5')"
      ]
    },
    {
      "cell_type": "code",
      "execution_count": null,
      "metadata": {
        "id": "1D4VIhkYNW1W"
      },
      "outputs": [],
      "source": [
        "import json\n",
        "\n",
        "# Simpan classes_list ke dalam file JSON di Google Drive\n",
        "def save_classes_list(classes_list, save_path):\n",
        "    with open(save_path, 'w') as f:\n",
        "        json.dump(classes_list, f)\n",
        "    print(f\"File JSON berhasil disimpan di: {save_path}\")\n",
        "\n",
        "# Contoh penggunaan:\n",
        "# Ganti path sesuai dengan direktori yang Anda inginkan di Google Drive\n",
        "save_path = '/content/drive/MyDrive/Dataset/arya6/classes_list.json'\n",
        "save_classes_list(classes_list, save_path)"
      ]
    },
    {
      "cell_type": "code",
      "execution_count": null,
      "metadata": {
        "id": "Vosp-othXCXk"
      },
      "outputs": [],
      "source": [
        "import pickle\n",
        "\n",
        "# Daftar kelas yang digunakan selama pelatihan\n",
        "classes_list = [...]  # Daftar kelas yang sama dengan yang digunakan saat pelatihan\n",
        "\n",
        "# Simpan daftar kelas ke file PKL\n",
        "with open('/content/drive/MyDrive/Dataset/arya6/classes_list.pkl', 'wb') as f:\n",
        "    pickle.dump(classes_list, f)"
      ]
    },
    {
      "cell_type": "code",
      "execution_count": null,
      "metadata": {
        "id": "VgqLKm1_srTw"
      },
      "outputs": [],
      "source": [
        "classes_list"
      ]
    },
    {
      "cell_type": "code",
      "execution_count": null,
      "metadata": {
        "id": "woJUIoKasSa0"
      },
      "outputs": [],
      "source": [
        "# Muat daftar kelas dari file JSON\n",
        "with open('/content/drive/MyDrive/Dataset/arya6/classes_list.json', 'r') as f:\n",
        "    classes_list = json.load(f)\n",
        "\n",
        "    print(classes_list)"
      ]
    },
    {
      "cell_type": "code",
      "execution_count": null,
      "metadata": {
        "id": "uPqmCn2HH5Vv"
      },
      "outputs": [],
      "source": [
        "# Menampilkan history pelatihan\n",
        "plt.figure(figsize=(12, 4))\n",
        "plt.subplot(1, 2, 1)\n",
        "plt.plot(history.history['bbox_output_loss'], label='Bounding Box Loss')\n",
        "plt.plot(history.history['val_bbox_output_loss'], label='Val Bounding Box Loss')\n",
        "plt.legend()\n",
        "plt.title('Bounding Box Loss')\n",
        "\n",
        "plt.subplot(1, 2, 2)\n",
        "plt.plot(history.history['class_output_accuracy'], label='Class Accuracy')\n",
        "plt.plot(history.history['val_class_output_accuracy'], label='Val Class Accuracy')\n",
        "plt.legend()\n",
        "plt.title('Class Accuracy')\n",
        "plt.show()"
      ]
    },
    {
      "cell_type": "code",
      "execution_count": null,
      "metadata": {
        "id": "LKz6RTx26Tak"
      },
      "outputs": [],
      "source": [
        "# Fungsi untuk menampilkan gambar dengan bounding box dan nilai prediksi\n",
        "def display_validation_results(X_val, y_bbox_val, y_class_val, classes_list, model, num_samples=10, samples_per_row=5):\n",
        "    predictions = model.predict(X_val)\n",
        "    bbox_predictions, class_predictions = predictions[0], predictions[1]\n",
        "\n",
        "    num_rows = (num_samples + samples_per_row - 1) // samples_per_row  # Menghitung jumlah baris yang diperlukan\n",
        "    plt.figure(figsize=(15, 3 * num_rows))  # Menyesuaikan ukuran gambar berdasarkan jumlah baris\n",
        "\n",
        "    for i in range(num_samples):\n",
        "        image = X_val[i]\n",
        "        bbox_pred = bbox_predictions[i]\n",
        "        class_pred = np.argmax(class_predictions[i])\n",
        "\n",
        "        plt.subplot(num_rows, samples_per_row, i + 1)\n",
        "        plt.imshow(cv2.cvtColor(image.astype('uint8'), cv2.COLOR_BGR2RGB))\n",
        "\n",
        "        # Menggambar bounding box berdasarkan prediksi\n",
        "        xmin, ymin, xmax, ymax = bbox_pred\n",
        "        plt.gca().add_patch(plt.Rectangle((xmin, ymin), xmax - xmin, ymax - ymin,\n",
        "                                          edgecolor='green', facecolor='none', linewidth=2))\n",
        "        plt.title(f'{classes_list[class_pred]}\\nActual: {classes_list[y_class_val[i]]}')\n",
        "\n",
        "        # Menambahkan nilai akurasi di subplot\n",
        "        plt.xlabel(f'Class Accuracy: {class_predictions[i][y_class_val[i]]:.2f}')\n",
        "\n",
        "        # Memastikan tidak ada subplot yang kosong di akhir baris terakhir\n",
        "        if (i + 1) % samples_per_row == 0:\n",
        "            plt.tight_layout()\n",
        "\n",
        "    plt.tight_layout()\n",
        "    plt.show()\n",
        "\n",
        "# Panggil fungsi ini setelah Anda melatih model dan ingin menampilkan hasil validasi\n",
        "display_validation_results(X_val, y_bbox_val, y_class_val, classes_list, model, num_samples=10, samples_per_row=5)\n"
      ]
    },
    {
      "cell_type": "code",
      "execution_count": null,
      "metadata": {
        "id": "rA3SXH7t7_rB"
      },
      "outputs": [],
      "source": [
        "from sklearn.metrics import classification_report, confusion_matrix\n",
        "\n",
        "# Prediksi kelas pada data validasi\n",
        "y_pred = model.predict(X_val)\n",
        "\n",
        "# Mendapatkan kelas prediksi dengan nilai tertinggi\n",
        "y_pred_class = np.argmax(y_pred[1], axis=1)\n",
        "\n",
        "# Menampilkan confusion matrix\n",
        "cm = confusion_matrix(y_class_val, y_pred_class)\n",
        "print(\"Confusion Matrix:\")\n",
        "print(cm)\n",
        "\n",
        "# Menampilkan classification report\n",
        "cr = classification_report(y_class_val, y_pred_class, target_names=classes_list)\n",
        "print(\"Classification Report:\")\n",
        "print(cr)\n"
      ]
    },
    {
      "cell_type": "code",
      "execution_count": null,
      "metadata": {
        "id": "tF0R_1EpkXQM"
      },
      "outputs": [],
      "source": [
        "import cv2\n",
        "import numpy as np\n",
        "import matplotlib.pyplot as plt\n",
        "\n",
        "# Fungsi untuk memuat dan menampilkan gambar dengan prediksi bounding box\n",
        "def validate_single_image(image_path, model, classes_list):\n",
        "    # Memuat gambar dari path\n",
        "    image = cv2.imread(image_path)\n",
        "    image_rgb = cv2.cvtColor(image, cv2.COLOR_BGR2RGB)  # Konversi ke format RGB\n",
        "\n",
        "    # Reshape gambar untuk model\n",
        "    input_image = cv2.resize(image, (320, 320))  # Ubah sesuai dengan dimensi masukan model Anda\n",
        "    input_image = np.expand_dims(input_image, axis=0)\n",
        "\n",
        "    # Melakukan prediksi menggunakan model\n",
        "    predictions = model.predict(input_image)\n",
        "    bbox_predictions, class_predictions = predictions[0], predictions[1]\n",
        "\n",
        "    # Mengambil hasil prediksi untuk gambar pertama\n",
        "    bbox_pred = bbox_predictions[0]\n",
        "    class_pred = np.argmax(class_predictions[0])\n",
        "\n",
        "    # Menampilkan gambar dengan bounding box dan label prediksi\n",
        "    plt.figure(figsize=(8, 6))\n",
        "    plt.imshow(image_rgb)\n",
        "\n",
        "    # Menggambar bounding box berdasarkan prediksi\n",
        "    xmin, ymin, xmax, ymax = bbox_pred\n",
        "    plt.gca().add_patch(plt.Rectangle((xmin, ymin), xmax - xmin, ymax - ymin,\n",
        "                                      edgecolor='green', facecolor='none', linewidth=2))\n",
        "    plt.title(f'Predicted Class: {classes_list[class_pred]}')\n",
        "    plt.axis('off')\n",
        "    plt.show()\n",
        "\n",
        "# Contoh penggunaan\n",
        "# Pastikan path gambar sesuai dengan lokasi gambar yang ingin Anda uji\n",
        "image_path = '/content/drive/MyDrive/Dataset/arya5/images/IMG-20240622-WA0013_jpg.rf.6cb01f7f6d0b91d12075f864a134ae25.jpg'  # Ganti dengan path gambar Anda\n",
        "validate_single_image(image_path, model, classes_list)\n"
      ]
    },
    {
      "cell_type": "code",
      "execution_count": null,
      "metadata": {
        "id": "vsPle8uRTbdc"
      },
      "outputs": [],
      "source": [
        "import cv2\n",
        "import numpy as np\n",
        "import matplotlib.pyplot as plt\n",
        "from tensorflow.keras.models import load_model\n",
        "import json\n",
        "\n",
        "# Muat model yang telah dilatih\n",
        "model_path = '/content/drive/MyDrive/Dataset/arya6/model_checkpoint2.h5'\n",
        "model = load_model(model_path)\n",
        "\n",
        "# Muat daftar kelas dari file JSON\n",
        "with open('/content/drive/MyDrive/Dataset/arya6/classes_list.json', 'r') as f:\n",
        "    classes_list = json.load(f)\n",
        "\n",
        "# Fungsi untuk memuat gambar uji\n",
        "def load_test_image(image_path):\n",
        "    image = cv2.imread(image_path)\n",
        "    image = cv2.resize(image, (320, 320))\n",
        "    return image\n",
        "\n",
        "# Fungsi untuk pra-pemrosesan gambar\n",
        "def preprocess_image(image):\n",
        "    #image = image / 255.0\n",
        "    image = np.expand_dims(image, axis=0)\n",
        "    return image\n",
        "\n",
        "# Fungsi untuk membuat prediksi\n",
        "def make_predictions(model, image):\n",
        "    bbox_pred, class_pred = model.predict(image)\n",
        "    class_pred = np.argmax(class_pred, axis=-1)\n",
        "    return bbox_pred, class_pred\n",
        "\n",
        "# Fungsi untuk menampilkan hasil\n",
        "def display_test_image(image_path, bbox_pred, class_pred, classes_list):\n",
        "    # Debugging: Periksa prediksi kelas dan daftar kelas\n",
        "    print(f\"class_pred: {class_pred}\")\n",
        "    print(f\"classes_list: {classes_list}\")\n",
        "\n",
        "    if class_pred[0] < len(classes_list):\n",
        "        label = classes_list[class_pred[0]]\n",
        "    else:\n",
        "        label = \"Unknown\"\n",
        "\n",
        "    image = cv2.imread(image_path)\n",
        "    image = cv2.resize(image, (320, 320))\n",
        "    bbox = bbox_pred[0]\n",
        "\n",
        "    plt.figure(figsize=(10, 10))\n",
        "    plt.imshow(cv2.cvtColor(image, cv2.COLOR_BGR2RGB))\n",
        "    plt.gca().add_patch(plt.Rectangle((bbox[0], bbox[1]), bbox[2] - bbox[0], bbox[3] - bbox[1],\n",
        "                                      edgecolor='red', facecolor='none', linewidth=2))\n",
        "    plt.title(label)\n",
        "    plt.show()\n",
        "\n",
        "# Path ke gambar uji\n",
        "test_image_path = '/content/drive/MyDrive/Dataset/validasi/WhatsApp Image 2024-07-13 at 01.14.28_420f6806.jpg'\n",
        "\n",
        "# Muat dan pra-pemroses gambar uji\n",
        "test_image = load_test_image(test_image_path)\n",
        "preprocessed_image = preprocess_image(test_image)\n",
        "\n",
        "# Buat prediksi\n",
        "bbox_pred, class_pred = make_predictions(model, preprocessed_image)\n",
        "\n",
        "# Tampilkan hasil\n",
        "display_test_image(test_image_path, bbox_pred, class_pred, classes_list)\n"
      ]
    },
    {
      "cell_type": "code",
      "source": [
        "import cv2\n",
        "import numpy as np\n",
        "import matplotlib.pyplot as plt\n",
        "from tensorflow.keras.models import load_model\n",
        "import json\n",
        "from google.colab.patches import cv2_imshow\n",
        "from IPython.display import display, Image\n",
        "import threading\n",
        "import ipywidgets as widgets\n",
        "\n",
        "# Load the trained model\n",
        "model_path = '/content/drive/MyDrive/Dataset/arya6/model_checkpoint2.h5'\n",
        "model = load_model(model_path)\n",
        "\n",
        "# Load class list from JSON file\n",
        "with open('/content/drive/MyDrive/Dataset/arya6/classes_list.json', 'r') as f:\n",
        "    classes_list = json.load(f)\n",
        "\n",
        "# Function to preprocess the frame\n",
        "def preprocess_frame(frame):\n",
        "    frame = cv2.resize(frame, (320, 320))\n",
        "    frame = np.expand_dims(frame, axis=0)\n",
        "    return frame\n",
        "\n",
        "# Function to make predictions\n",
        "def make_predictions(model, frame):\n",
        "    bbox_pred, class_pred = model.predict(frame)\n",
        "    class_pred = np.argmax(class_pred, axis=-1)\n",
        "    return bbox_pred, class_pred\n",
        "\n",
        "# Function to display the frame with bounding box and label\n",
        "def display_frame(frame, bbox_pred, class_pred, classes_list):\n",
        "    if class_pred[0] < len(classes_list):\n",
        "        label = classes_list[class_pred[0]]\n",
        "    else:\n",
        "        label = \"Unknown\"\n",
        "\n",
        "    bbox = bbox_pred[0]\n",
        "    cv2.rectangle(frame, (int(bbox[0]), int(bbox[1])), (int(bbox[2]), int(bbox[3])), (0, 0, 255), 2)\n",
        "    cv2.putText(frame, label, (int(bbox[0]), int(bbox[1]) - 10), cv2.FONT_HERSHEY_SIMPLEX, 0.9, (36, 255, 12), 2)\n",
        "\n",
        "    return frame\n",
        "\n",
        "# Initialize the webcam\n",
        "camera = cv2.VideoCapture(0)\n",
        "\n",
        "\n",
        "\n",
        "    # preprocessed_frame = preprocess_frame(frame)\n",
        "    # bbox_pred, class_pred = make_predictions(model, preprocessed_frame)\n",
        "    # frame = display_frame(frame, bbox_pred, class_pred, classes_list)\n",
        "\n",
        "\n",
        "\n",
        "# cv2_imshow(frame)\n",
        "\n",
        "stopButton = widgets.ToggleButton(\n",
        "    value=False,\n",
        "    description='Stop',\n",
        "    disabled=False,\n",
        "    button_style='danger', # 'success', 'info', 'warning', 'danger' or ''\n",
        "    tooltip='Description',\n",
        "    icon='square' # (FontAwesome names without the `fa-` prefix)\n",
        ")\n",
        "\n",
        "def view(button):\n",
        "    cap = cv2.VideoCapture(0)\n",
        "    display_handle=display(None, display_id=True)\n",
        "    i = 0\n",
        "    while True:\n",
        "        _, frame = cap.read()\n",
        "        frame = cv2.flip(frame, 1) # if your camera reverses your image\n",
        "        _, frame = cv2.imencode('.jpeg', frame)\n",
        "        display_handle.update(Image(data=frame.tobytes()))\n",
        "        if stopButton.value==True:\n",
        "            cap.release()\n",
        "            display_handle.update(None)\n",
        "\n",
        "display(stopButton)\n",
        "thread = threading.Thread(target=view, args=(stopButton,))\n",
        "thread.start()\n",
        "\n",
        "cv2.destroyAllWindows()\n",
        "cv2.waitKey(1)\n"
      ],
      "metadata": {
        "id": "MOv9y2nok5Jd"
      },
      "execution_count": null,
      "outputs": []
    },
    {
      "cell_type": "code",
      "source": [
        "cap.release()"
      ],
      "metadata": {
        "id": "-xNR8jLTmdt0"
      },
      "execution_count": null,
      "outputs": []
    },
    {
      "cell_type": "code",
      "execution_count": null,
      "metadata": {
        "id": "sfqkI5EsXGyG"
      },
      "outputs": [],
      "source": [
        "from tensorflow.keras.models import load_model\n",
        "\n",
        "# Path ke model yang telah dilatih (.h5)\n",
        "model_path = '/content/drive/MyDrive/Dataset/arya5/model_checkpoint2.h5'\n",
        "model = load_model(model_path)"
      ]
    },
    {
      "cell_type": "code",
      "execution_count": null,
      "metadata": {
        "id": "MObwoeHaYod_"
      },
      "outputs": [],
      "source": [
        "# Mendapatkan jumlah kelas dari model\n",
        "num_classes = model.layers[-1].output_shape[-1]\n",
        "print(f\"Jumlah kelas dalam model: {num_classes}\")\n"
      ]
    },
    {
      "cell_type": "code",
      "execution_count": null,
      "metadata": {
        "id": "zqIZVPDiYwlK"
      },
      "outputs": [],
      "source": [
        "# Pastikan bahwa output layer adalah layer Dense dengan aktivasi softmax\n",
        "output_layer = model.layers[-1]\n",
        "\n",
        "# Ambil bobot (weights) dan bias dari output layer\n",
        "weights, bias = output_layer.get_weights()\n",
        "\n",
        "# Jika model menggunakan softmax untuk klasifikasi multikelas\n",
        "if output_layer.activation == 'softmax':\n",
        "    # Ambil daftar kelas dari bobot\n",
        "    classes_list = list(output_layer.get_weights()[1])\n",
        "\n",
        "# Cetak semua kelas yang ada dalam model\n",
        "print(\"Kelas yang ada dalam model:\")\n",
        "for i, class_name in enumerate(classes_list):\n",
        "    print(f\"Kelas {i + 1}: {class_name}\")\n"
      ]
    }
  ],
  "metadata": {
    "accelerator": "GPU",
    "colab": {
      "gpuType": "T4",
      "provenance": [],
      "include_colab_link": true
    },
    "kernelspec": {
      "display_name": "Python 3",
      "name": "python3"
    },
    "language_info": {
      "codemirror_mode": {
        "name": "ipython",
        "version": 3
      },
      "file_extension": ".py",
      "mimetype": "text/x-python",
      "name": "python",
      "nbconvert_exporter": "python",
      "pygments_lexer": "ipython3",
      "version": "3.11.4"
    }
  },
  "nbformat": 4,
  "nbformat_minor": 0
}